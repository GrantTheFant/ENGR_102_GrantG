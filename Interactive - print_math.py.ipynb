{
 "cells": [
  {
   "cell_type": "markdown",
   "metadata": {
    "isInteractiveWindowMessageCell": true
   },
   "source": [
    "Connected to Python 3.11.4"
   ]
  },
  {
   "cell_type": "code",
   "execution_count": 1,
   "metadata": {},
   "outputs": [
    {
     "name": "stdout",
     "output_type": "stream",
     "text": [
      "Force is  40.5  N\n"
     ]
    }
   ],
   "source": [
    "import math\n",
    "mass = 27\n",
    "acc = 1.5\n",
    "force =mass*acc\n",
    "\n",
    "\n",
    "print(\"Force is \", force, \" N\")\n",
    "# print(\"Wavelength is \", wave, \" nm\")\n",
    "# print(\"Radon-222 left is \", radon, \" g\")\n",
    "# print(\"Pressure is \", pressure, \" kPa\")"
   ]
  },
  {
   "cell_type": "code",
   "execution_count": 2,
   "metadata": {},
   "outputs": [
    {
     "ename": "TypeError",
     "evalue": "'float' object is not callable",
     "output_type": "error",
     "traceback": [
      "\u001b[1;31m---------------------------------------------------------------------------\u001b[0m",
      "\u001b[1;31mTypeError\u001b[0m                                 Traceback (most recent call last)",
      "\u001b[1;32mc:\\ENGR_102\\print_math.py\u001b[0m in \u001b[0;36mline 8\n\u001b[0;32m      <a href='file:///c%3A/ENGR_102/print_math.py?line=4'>5</a>\u001b[0m force \u001b[39m=\u001b[39mmass\u001b[39m*\u001b[39macc\n\u001b[0;32m      <a href='file:///c%3A/ENGR_102/print_math.py?line=6'>7</a>\u001b[0m distance \u001b[39m=\u001b[39m \u001b[39m0.025\u001b[39m\n\u001b[1;32m----> <a href='file:///c%3A/ENGR_102/print_math.py?line=7'>8</a>\u001b[0m angle \u001b[39m=\u001b[39m \u001b[39m35\u001b[39m\u001b[39m*\u001b[39mmath\u001b[39m.\u001b[39;49mpi()\u001b[39m/\u001b[39m\u001b[39m180\u001b[39m\n\u001b[0;32m      <a href='file:///c%3A/ENGR_102/print_math.py?line=8'>9</a>\u001b[0m wave \u001b[39m=\u001b[39m \u001b[39m2\u001b[39m\u001b[39m*\u001b[39mdistance\u001b[39m*\u001b[39mmath\u001b[39m.\u001b[39msin(angle)\n\u001b[0;32m     <a href='file:///c%3A/ENGR_102/print_math.py?line=11'>12</a>\u001b[0m \u001b[39mprint\u001b[39m(\u001b[39m\"\u001b[39m\u001b[39mForce is \u001b[39m\u001b[39m\"\u001b[39m, force, \u001b[39m\"\u001b[39m\u001b[39m N\u001b[39m\u001b[39m\"\u001b[39m)\n",
      "\u001b[1;31mTypeError\u001b[0m: 'float' object is not callable"
     ]
    }
   ],
   "source": [
    "import math\n",
    "\n",
    "mass = 27\n",
    "acc = 1.5\n",
    "force =mass*acc\n",
    "\n",
    "distance = 0.025\n",
    "angle = 35*math.pi()/180\n",
    "wave = 2*distance*math.sin(angle)\n",
    "\n",
    "\n",
    "print(\"Force is \", force, \" N\")\n",
    "print(\"Wavelength is \", wave, \" nm\")\n",
    "# print(\"Radon-222 left is \", radon, \" g\")\n",
    "# print(\"Pressure is \", pressure, \" kPa\")"
   ]
  },
  {
   "cell_type": "code",
   "execution_count": 3,
   "metadata": {},
   "outputs": [
    {
     "name": "stdout",
     "output_type": "stream",
     "text": [
      "Force is  40.5  N\n",
      "Wavelength is  0.028678821817552304  nm\n"
     ]
    }
   ],
   "source": [
    "import math\n",
    "\n",
    "mass = 27\n",
    "acc = 1.5\n",
    "force =mass*acc\n",
    "\n",
    "distance = 0.025\n",
    "angle = 35*math.pi/180\n",
    "wave = 2*distance*math.sin(angle)\n",
    "\n",
    "\n",
    "print(\"Force is \", force, \" N\")\n",
    "print(\"Wavelength is \", wave, \" nm\")\n",
    "# print(\"Radon-222 left is \", radon, \" g\")\n",
    "# print(\"Pressure is \", pressure, \" kPa\")"
   ]
  },
  {
   "cell_type": "code",
   "execution_count": 4,
   "metadata": {},
   "outputs": [
    {
     "name": "stdout",
     "output_type": "stream",
     "text": [
      "Force is  40.5  N\n",
      "Wavelength is  0.028678821817552304 nm\n"
     ]
    }
   ],
   "source": [
    "import math\n",
    "\n",
    "mass = 27\n",
    "acc = 1.5\n",
    "force =mass*acc\n",
    "\n",
    "distance = 0.025\n",
    "angle = 35*math.pi/180\n",
    "wave = 2*distance*math.sin(angle)\n",
    "\n",
    "\n",
    "print(\"Force is \", force, \" N\")\n",
    "print(\"Wavelength is \", wave, \"nm\")\n",
    "# print(\"Radon-222 left is \", radon, \" g\")\n",
    "# print(\"Pressure is \", pressure, \" kPa\")"
   ]
  },
  {
   "cell_type": "code",
   "execution_count": 5,
   "metadata": {},
   "outputs": [
    {
     "name": "stdout",
     "output_type": "stream",
     "text": [
      "Force is  40.5  N\n",
      "Wavelength is 0.028678821817552304 nm\n"
     ]
    }
   ],
   "source": [
    "import math\n",
    "\n",
    "mass = 27\n",
    "acc = 1.5\n",
    "force =mass*acc\n",
    "\n",
    "distance = 0.025\n",
    "angle = 35*math.pi/180\n",
    "wave = 2*distance*math.sin(angle)\n",
    "\n",
    "\n",
    "print(\"Force is \", force, \" N\")\n",
    "print(\"Wavelength is\", wave, \"nm\")\n",
    "# print(\"Radon-222 left is \", radon, \" g\")\n",
    "# print(\"Pressure is \", pressure, \" kPa\")"
   ]
  },
  {
   "cell_type": "code",
   "execution_count": 6,
   "metadata": {},
   "outputs": [
    {
     "ename": "TypeError",
     "evalue": "'int' object is not callable",
     "output_type": "error",
     "traceback": [
      "\u001b[1;31m---------------------------------------------------------------------------\u001b[0m",
      "\u001b[1;31mTypeError\u001b[0m                                 Traceback (most recent call last)",
      "\u001b[1;32mc:\\ENGR_102\\print_math.py\u001b[0m in \u001b[0;36mline 13\n\u001b[0;32m     <a href='file:///c%3A/ENGR_102/print_math.py?line=10'>11</a>\u001b[0m mass2\u001b[39m=\u001b[39m\u001b[39m27\u001b[39m\n\u001b[0;32m     <a href='file:///c%3A/ENGR_102/print_math.py?line=11'>12</a>\u001b[0m hl\u001b[39m=\u001b[39m\u001b[39m3.8\u001b[39m\n\u001b[1;32m---> <a href='file:///c%3A/ENGR_102/print_math.py?line=12'>13</a>\u001b[0m radon\u001b[39m=\u001b[39mmath\u001b[39m.\u001b[39mpow(mass(\u001b[39m-\u001b[39;49m\u001b[39m5\u001b[39;49m\u001b[39m/\u001b[39;49mhl))\n\u001b[0;32m     <a href='file:///c%3A/ENGR_102/print_math.py?line=14'>15</a>\u001b[0m \u001b[39mprint\u001b[39m(\u001b[39m\"\u001b[39m\u001b[39mForce is\u001b[39m\u001b[39m\"\u001b[39m, force, \u001b[39m\"\u001b[39m\u001b[39mN\u001b[39m\u001b[39m\"\u001b[39m)\n\u001b[0;32m     <a href='file:///c%3A/ENGR_102/print_math.py?line=15'>16</a>\u001b[0m \u001b[39mprint\u001b[39m(\u001b[39m\"\u001b[39m\u001b[39mWavelength is\u001b[39m\u001b[39m\"\u001b[39m, wave, \u001b[39m\"\u001b[39m\u001b[39mnm\u001b[39m\u001b[39m\"\u001b[39m)\n",
      "\u001b[1;31mTypeError\u001b[0m: 'int' object is not callable"
     ]
    }
   ],
   "source": [
    "import math\n",
    "\n",
    "mass = 27\n",
    "acc = 1.5\n",
    "force =mass*acc\n",
    "\n",
    "distance = 0.025\n",
    "angle = 35*math.pi/180\n",
    "wave = 2*distance*math.sin(angle)\n",
    "\n",
    "mass2=27\n",
    "hl=3.8\n",
    "radon=math.pow(mass(-5/hl))\n",
    "\n",
    "print(\"Force is\", force, \"N\")\n",
    "print(\"Wavelength is\", wave, \"nm\")\n",
    "print(\"Radon-222 left is\", radon, \"g\")\n",
    "# print(\"Pressure is\", pressure, \"kPa\")"
   ]
  },
  {
   "cell_type": "code",
   "execution_count": 7,
   "metadata": {},
   "outputs": [
    {
     "name": "stdout",
     "output_type": "stream",
     "text": [
      "Force is 40.5 N\n",
      "Wavelength is 0.028678821817552304 nm\n",
      "Radon-222 left is 0.01308056870047253 g\n"
     ]
    }
   ],
   "source": [
    "import math\n",
    "\n",
    "mass = 27\n",
    "acc = 1.5\n",
    "force =mass*acc\n",
    "\n",
    "distance = 0.025\n",
    "angle = 35*math.pi/180\n",
    "wave = 2*distance*math.sin(angle)\n",
    "\n",
    "mass2=27\n",
    "hl=3.8\n",
    "radon=math.pow(mass, (-5/hl))\n",
    "\n",
    "print(\"Force is\", force, \"N\")\n",
    "print(\"Wavelength is\", wave, \"nm\")\n",
    "print(\"Radon-222 left is\", radon, \"g\")\n",
    "# print(\"Pressure is\", pressure, \"kPa\")"
   ]
  },
  {
   "cell_type": "code",
   "execution_count": 8,
   "metadata": {},
   "outputs": [
    {
     "name": "stdout",
     "output_type": "stream",
     "text": [
      "Force is 40.5 N\n",
      "Wavelength is 0.028678821817552304 nm\n",
      "Radon-222 left is 76.4492754786629 g\n"
     ]
    }
   ],
   "source": [
    "import math\n",
    "\n",
    "mass = 27\n",
    "acc = 1.5\n",
    "force =mass*acc\n",
    "\n",
    "distance = 0.025\n",
    "angle = 35*math.pi/180\n",
    "wave = 2*distance*math.sin(angle)\n",
    "days = 5\n",
    "\n",
    "mass2=27\n",
    "hl=3.8\n",
    "radon=math.pow(mass, (days/hl))\n",
    "\n",
    "print(\"Force is\", force, \"N\")\n",
    "print(\"Wavelength is\", wave, \"nm\")\n",
    "print(\"Radon-222 left is\", radon, \"g\")\n",
    "# print(\"Pressure is\", pressure, \"kPa\")"
   ]
  },
  {
   "cell_type": "code",
   "execution_count": 9,
   "metadata": {},
   "outputs": [
    {
     "name": "stdout",
     "output_type": "stream",
     "text": [
      "Force is 40.5 N\n",
      "Wavelength is 0.028678821817552304 nm\n",
      "Radon-222 left is 0.01308056870047253 g\n"
     ]
    }
   ],
   "source": [
    "import math\n",
    "\n",
    "mass = 27\n",
    "acc = 1.5\n",
    "force =mass*acc\n",
    "\n",
    "distance = 0.025\n",
    "angle = 35*math.pi/180\n",
    "wave = 2*distance*math.sin(angle)\n",
    "days = 5\n",
    "\n",
    "mass2=27\n",
    "hl=3.8\n",
    "radon=math.pow(mass, (-days/hl))\n",
    "\n",
    "print(\"Force is\", force, \"N\")\n",
    "print(\"Wavelength is\", wave, \"nm\")\n",
    "print(\"Radon-222 left is\", radon, \"g\")\n",
    "# print(\"Pressure is\", pressure, \"kPa\")"
   ]
  },
  {
   "cell_type": "code",
   "execution_count": 10,
   "metadata": {},
   "outputs": [
    {
     "name": "stdout",
     "output_type": "stream",
     "text": [
      "Force is 40.5 N\n",
      "Wavelength is 0.028678821817552304 nm\n",
      "Radon-222 left is 0.005254537871919503 g\n"
     ]
    }
   ],
   "source": [
    "import math\n",
    "\n",
    "mass = 27\n",
    "acc = 1.5\n",
    "force =mass*acc\n",
    "\n",
    "distance = 0.025\n",
    "angle = 35*math.pi/180\n",
    "wave = 2*distance*math.sin(angle)\n",
    "days = 5\n",
    "\n",
    "mass2=27\n",
    "hl=3.8\n",
    "radon=math.pow(2*mass, (-days/hl))\n",
    "\n",
    "print(\"Force is\", force, \"N\")\n",
    "print(\"Wavelength is\", wave, \"nm\")\n",
    "print(\"Radon-222 left is\", radon, \"g\")\n",
    "# print(\"Pressure is\", pressure, \"kPa\")"
   ]
  },
  {
   "cell_type": "code",
   "execution_count": 11,
   "metadata": {},
   "outputs": [
    {
     "name": "stdout",
     "output_type": "stream",
     "text": [
      "Force is 40.5 N\n",
      "Wavelength is 0.028678821817552304 nm\n",
      "Radon-222 left is 10.846051558652912 g\n"
     ]
    }
   ],
   "source": [
    "import math\n",
    "\n",
    "mass = 27\n",
    "acc = 1.5\n",
    "force =mass*acc\n",
    "\n",
    "distance = 0.025\n",
    "angle = 35*math.pi/180\n",
    "wave = 2*distance*math.sin(angle)\n",
    "days = 5\n",
    "\n",
    "mass2=27\n",
    "hl=3.8\n",
    "radon=mass*math.pow(2,(-days/hl))\n",
    "\n",
    "print(\"Force is\", force, \"N\")\n",
    "print(\"Wavelength is\", wave, \"nm\")\n",
    "print(\"Radon-222 left is\", radon, \"g\")\n",
    "# print(\"Pressure is\", pressure, \"kPa\")"
   ]
  },
  {
   "cell_type": "code",
   "execution_count": 12,
   "metadata": {},
   "outputs": [
    {
     "name": "stdout",
     "output_type": "stream",
     "text": [
      "Force is 40.5 N\n",
      "Wavelength is 0.028678821817552304 nm\n",
      "Radon-222 left is 10.846051558652912 g\n",
      "Pressure is 63894.62962962962 kPa\n"
     ]
    }
   ],
   "source": [
    "import math\n",
    "\n",
    "mass = 27\n",
    "acc = 1.5\n",
    "\n",
    "force =mass*acc\n",
    "\n",
    "distance = 0.025\n",
    "angle = 35*math.pi/180\n",
    "wave = 2*distance*math.sin(angle)\n",
    "days = 5\n",
    "mass2=27\n",
    "hl=3.8\n",
    "\n",
    "radon=mass*math.pow(2,(-days/hl))\n",
    "\n",
    "moles = 5\n",
    "vol = .27\n",
    "temp = 415\n",
    "const = 8.314\n",
    "\n",
    "pressure=5*const*temp/vol\n",
    "\n",
    "print(\"Force is\", force, \"N\")\n",
    "print(\"Wavelength is\", wave, \"nm\")\n",
    "print(\"Radon-222 left is\", radon, \"g\")\n",
    "print(\"Pressure is\", pressure, \"kPa\")"
   ]
  },
  {
   "cell_type": "code",
   "execution_count": 13,
   "metadata": {},
   "outputs": [
    {
     "name": "stdout",
     "output_type": "stream",
     "text": [
      "Force is 40.5 N\n",
      "Wavelength is 0.028678821817552304 nm\n",
      "Radon-222 left is 10.846051558652912 g\n",
      "Pressure is 63.89462962962963 kPa\n"
     ]
    }
   ],
   "source": [
    "import math\n",
    "\n",
    "mass = 27\n",
    "acc = 1.5\n",
    "\n",
    "force =mass*acc\n",
    "\n",
    "distance = 0.025\n",
    "angle = 35*math.pi/180\n",
    "wave = 2*distance*math.sin(angle)\n",
    "days = 5\n",
    "mass2=27\n",
    "hl=3.8\n",
    "\n",
    "radon=mass*math.pow(2,(-days/hl))\n",
    "\n",
    "moles = 5\n",
    "vol = .27\n",
    "temp = 415\n",
    "const = 8.314\n",
    "\n",
    "pressure=5*const*temp/(vol*1000)\n",
    "\n",
    "print(\"Force is\", force, \"N\")\n",
    "print(\"Wavelength is\", wave, \"nm\")\n",
    "print(\"Radon-222 left is\", radon, \"g\")\n",
    "print(\"Pressure is\", pressure, \"kPa\")"
   ]
  },
  {
   "cell_type": "code",
   "execution_count": 14,
   "metadata": {},
   "outputs": [
    {
     "name": "stdout",
     "output_type": "stream",
     "text": [
      "Force is 40.5 N\n",
      "Wavelength is 0.028678821817552304 nm\n",
      "Radon-222 left is 10.846051558652912 g\n",
      "Pressure is 63.89462962962963 kPa\n"
     ]
    }
   ],
   "source": [
    "import math\n",
    "\n",
    "mass = 27\n",
    "acc = 1.5\n",
    "\n",
    "force =mass*acc\n",
    "\n",
    "distance = 0.025\n",
    "angle = 35*math.pi/180\n",
    "wave = 2*distance*math.sin(angle)\n",
    "days = 5\n",
    "mass2=27\n",
    "hl=3.8\n",
    "\n",
    "radon=mass*math.pow(2,(-days/hl))\n",
    "\n",
    "moles = 5\n",
    "vol = .27\n",
    "temp = 415\n",
    "const = 8.314\n",
    "\n",
    "pressure=5*const*temp/(vol*1000)\n",
    "\n",
    "print(\"Force is\", force, \"N\")\n",
    "print(\"Wavelength is\", wave, \"nm\")\n",
    "print(\"Radon-222 left is\", radon, \"g\")\n",
    "print(\"Pressure is\", pressure, \"kPa\")"
   ]
  },
  {
   "cell_type": "code",
   "execution_count": 15,
   "metadata": {},
   "outputs": [
    {
     "name": "stdout",
     "output_type": "stream",
     "text": [
      "Force is 40.5 N\n",
      "Wavelength is 0.028678821817552304 nm\n",
      "Radon-222 left is 10.846051558652912 g\n",
      "Pressure is 63.89462962962963 kPa\n"
     ]
    }
   ],
   "source": [
    "# By submitting this assignment, I agree to the following:\n",
    "#   \"Aggies do not lie, cheat, or steal, or tolerate those who do.\"\n",
    "#   \"I have not given or received any unauthorized aid on this assignment.\"\n",
    "#\n",
    "# Name:         Grant Gallun\n",
    "# Section:      472\n",
    "# Assignment:   THE ASSIGNMENT NUMBER (Lab 1.12)\n",
    "# Date:         8/23/23\n",
    "\n",
    "import math\n",
    "\n",
    "mass = 27\n",
    "acc = 1.5\n",
    "\n",
    "force =mass*acc\n",
    "\n",
    "distance = 0.025\n",
    "angle = 35*math.pi/180\n",
    "wave = 2*distance*math.sin(angle)\n",
    "days = 5\n",
    "mass2=27\n",
    "hl=3.8\n",
    "\n",
    "radon=mass*math.pow(2,(-days/hl))\n",
    "\n",
    "moles = 5\n",
    "vol = .27\n",
    "temp = 415\n",
    "const = 8.314\n",
    "\n",
    "pressure=5*const*temp/(vol*1000)\n",
    "\n",
    "print(\"Force is\", force, \"N\")\n",
    "print(\"Wavelength is\", wave, \"nm\")\n",
    "print(\"Radon-222 left is\", radon, \"g\")\n",
    "print(\"Pressure is\", pressure, \"kPa\")"
   ]
  },
  {
   "cell_type": "code",
   "execution_count": 16,
   "metadata": {},
   "outputs": [
    {
     "name": "stdout",
     "output_type": "stream",
     "text": [
      "Force is 40.5 N\n",
      "Wavelength is 0.028678821817552304 nm\n",
      "Radon-222 left is 10.846051558652912 g\n",
      "Pressure is 63.89462962962963 kPa\n"
     ]
    }
   ],
   "source": [
    "# By submitting this assignment, I agree to the following:\n",
    "#   \"Aggies do not lie, cheat, or steal, or tolerate those who do.\"\n",
    "#   \"I have not given or received any unauthorized aid on this assignment.\"\n",
    "#\n",
    "# Name:         Grant Gallun\n",
    "# Section:      472\n",
    "# Assignment:   THE ASSIGNMENT NUMBER (Lab 1.12)\n",
    "# Date:         8/23/23\n",
    "\n",
    "import math\n",
    "\n",
    "#it might be a little excessive for this assignment\n",
    "#but I'm creating variables for the equations so I promote better organization for myself and for my team in the future\n",
    "\n",
    "mass = 27\n",
    "acc = 1.5\n",
    "\n",
    "force =mass*acc\n",
    "\n",
    "distance = 0.025\n",
    "angle = 35*math.pi/180\n",
    "wave = 2*distance*math.sin(angle)\n",
    "days = 5\n",
    "mass2=27\n",
    "hl=3.8\n",
    "\n",
    "radon=mass*math.pow(2,(-days/hl))\n",
    "\n",
    "moles = 5\n",
    "vol = .27\n",
    "temp = 415\n",
    "const = 8.314\n",
    "\n",
    "pressure=5*const*temp/(vol*1000)\n",
    "\n",
    "print(\"Force is\", force, \"N\")\n",
    "print(\"Wavelength is\", wave, \"nm\")\n",
    "print(\"Radon-222 left is\", radon, \"g\")\n",
    "print(\"Pressure is\", pressure, \"kPa\")"
   ]
  }
 ],
 "metadata": {
  "kernelspec": {
   "display_name": "Python 3",
   "language": "python",
   "name": "python3"
  },
  "language_info": {
   "name": "python",
   "version": "3.11.4"
  }
 },
 "nbformat": 4,
 "nbformat_minor": 2
}
